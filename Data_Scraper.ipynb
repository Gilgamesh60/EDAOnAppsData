{
  "nbformat": 4,
  "nbformat_minor": 0,
  "metadata": {
    "colab": {
      "provenance": [],
      "authorship_tag": "ABX9TyPVfyTdH5DdABsABdTyCMmR",
      "include_colab_link": true
    },
    "kernelspec": {
      "name": "python3",
      "display_name": "Python 3"
    },
    "language_info": {
      "name": "python"
    }
  },
  "cells": [
    {
      "cell_type": "markdown",
      "metadata": {
        "id": "view-in-github",
        "colab_type": "text"
      },
      "source": [
        "<a href=\"https://colab.research.google.com/github/Gilgamesh60/EDAOnAppsData/blob/main/Data_Scraper.ipynb\" target=\"_parent\"><img src=\"https://colab.research.google.com/assets/colab-badge.svg\" alt=\"Open In Colab\"/></a>"
      ]
    },
    {
      "cell_type": "code",
      "source": [
        "from google.colab import drive\n",
        "drive.mount('/content/drive')"
      ],
      "metadata": {
        "id": "k6_rTMcJc_Oi"
      },
      "execution_count": null,
      "outputs": []
    },
    {
      "cell_type": "code",
      "source": [
        "!pip install selenium\n",
        "!pip install google_play_scraper"
      ],
      "metadata": {
        "id": "al_0OI82dNCX"
      },
      "execution_count": null,
      "outputs": []
    },
    {
      "cell_type": "code",
      "source": [
        "!apt install chromium-chromedriver\n",
        "chrome_options = webdriver.ChromeOptions()\n",
        "chrome_options.add_argument('--headless')\n",
        "chrome_options.add_argument('--no-sandbox')\n",
        "chrome_options.add_argument('--disable-dev-shm-usage')\n",
        "driver = webdriver.Chrome('chromedriver',options=chrome_options)"
      ],
      "metadata": {
        "id": "D9aPelLUdxMI"
      },
      "execution_count": null,
      "outputs": []
    },
    {
      "cell_type": "code",
      "execution_count": null,
      "metadata": {
        "id": "GHZe0ASxcrTx"
      },
      "outputs": [],
      "source": [
        "from selenium import webdriver\n",
        "from selenium.webdriver.common.keys import Keys\n",
        "from selenium.webdriver.common.by import By\n",
        "import pandas as pd\n",
        "import numpy as np\n",
        "from google_play_scraper import app\n",
        "import time\n",
        "url = \"https://play.google.com\"\n",
        "driver.get(url + \"/store/apps\")\n",
        "# letters = ['a','b','c','d','e','f','g','h','i','j','k','l','m','n','o','p','q','r','s','t','u','v','w','x','y','z','1','2','3','4','5','6','7','8','9','0']\n",
        "searches = [\n",
        "    \"Art & Design\",\n",
        "    \"Augmented reality\",\n",
        "    \"Auto & Vehicles\",\n",
        "    \"Beauty\",\n",
        "    \"Books & Reference\",\n",
        "    \"Business\",\n",
        "    \"Comics\",\n",
        "    \"Communication\",\n",
        "    \"Dating\",\n",
        "    \"Daydream\",\n",
        "    \"Education\",\n",
        "    \"Entertainment\",\n",
        "    \"Events\",\n",
        "    \"Finance\",\n",
        "    \"Food & Drink\",\n",
        "    \"Health & Fitness\",\n",
        "    \"House & Home\",\n",
        "    \"Libraries & Demo\",\n",
        "    \"Lifestyle\",\n",
        "    \"Maps & Navigation\",\n",
        "    \"Medical\",\n",
        "    \"Music & Audio\",\n",
        "    \"News & Magazines\",\n",
        "    \"Parenting\",\n",
        "    \"Personalization\",\n",
        "    \"Photography\",\n",
        "    \"Productivity\",\n",
        "    \"Shopping\",\n",
        "    \"Social\",\n",
        "    \"Sports\",\n",
        "    \"Tools\",\n",
        "    \"Travel & Local\",\n",
        "    \"Video Players & Editors\",\n",
        "    \"Wear OS by Google\",\n",
        "    \"Weather\",\n",
        "    \"Action\",\n",
        "    \"Adventure\",\n",
        "    \"Arcade\",\n",
        "    \"Board\",\n",
        "    \"Card\",\n",
        "    \"Casino\",\n",
        "    \"Casual\",\n",
        "    \"Educational\",\n",
        "    \"Music\",\n",
        "    \"Puzzle\",\n",
        "    \"Racing\",\n",
        "    \"Role Playing\",\n",
        "    \"Simulation\",\n",
        "    \"Sports\",\n",
        "    \"Strategy\",\n",
        "    \"Trivia\",\n",
        "    \"Word\",\n",
        "    \"Ages up to 5\",\n",
        "    \"Ages 6-8\",\n",
        "    \"Ages 9-12\",\n",
        "]\n",
        "\n",
        "hrefs = []\n",
        "SCROLL_PAUSE_TIME = 1\n",
        "for i in searches:\n",
        "    driver.find_element(by=By.NAME,value=\"q\").clear()\n",
        "    time.sleep(0.5)\n",
        "    driver.find_element(by=By.NAME,value=\"q\").send_keys(i)\n",
        "    time.sleep(1)\n",
        "    driver.find_element(by=By.CLASS_NAME,value=\"gbqfb\").click()\n",
        "    time.sleep(1.5)\n",
        "    # Get scroll height\n",
        "    last_height = driver.execute_script(\"return document.body.scrollHeight\")\n",
        "\n",
        "    while True:\n",
        "        try:\n",
        "            apps = driver.find_elements(by=By.CLASS_NAME,value=\"poRVub\")\n",
        "            for j in range(len(apps)):\n",
        "                hrefs.append(apps[j].get_attribute(\"href\"))\n",
        "        except:\n",
        "            pass\n",
        "        # Scroll down to bottom\n",
        "        driver.execute_script(\"window.scrollTo(0, document.body.scrollHeight);\")\n",
        "\n",
        "        # Wait to load page\n",
        "        time.sleep(SCROLL_PAUSE_TIME)\n",
        "\n",
        "        # Calculate new scroll height and compare with last scroll height\n",
        "        new_height = driver.execute_script(\"return document.body.scrollHeight\")\n",
        "        if new_height == last_height:\n",
        "            break\n",
        "        last_height = new_height\n",
        "\n",
        "\n",
        "app_data = pd.DataFrame()\n",
        "print(len(np.unique(np.asarray(hrefs))))\n",
        "print(\"test\")\n",
        "c = 0\n",
        "links = np.unique(np.asarray(hrefs))\n",
        "for i in links:\n",
        "    print(\"{}/{}\".format(c + 1, len(links)), end=\"\\r\")\n",
        "    c = c + 1\n",
        "    try:\n",
        "        id = i.split(\"=\")[-1]\n",
        "        entry = app(id, lang=\"en\", country=\"in\")\n",
        "        entry = pd.Series(entry)\n",
        "        app_data = app_data.append(entry, ignore_index=True)\n",
        "    except:\n",
        "        print(\"Could not retrieve data\")\n",
        "\n",
        "app_data.to_csv(\"Data/play_store_data.csv\", index=False)"
      ]
    }
  ]
}